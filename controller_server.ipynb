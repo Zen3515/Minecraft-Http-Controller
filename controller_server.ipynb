{
 "cells": [
  {
   "cell_type": "code",
   "execution_count": 1,
   "metadata": {},
   "outputs": [],
   "source": [
    "import socket\n",
    "from queue import Queue\n",
    "from time import sleep\n",
    "from threading import Thread"
   ]
  },
  {
   "cell_type": "code",
   "execution_count": 42,
   "metadata": {},
   "outputs": [],
   "source": [
    "def socketServer(command_queue, isStop, HOST = '', PORT = 8989):\n",
    "    s = socket.socket(socket.AF_INET, socket.SOCK_STREAM)\n",
    "    s.setsockopt(socket.SOL_SOCKET, socket.SO_REUSEADDR, 1)\n",
    "    s.bind((HOST, PORT))\n",
    "    s.listen() #(5)\n",
    "    print(f\"Successfully open server {s}\")\n",
    "    while not isStop():\n",
    "        print(f\"waiting to be connected\")\n",
    "        conn, addr = s.accept()\n",
    "    #     if data == \"turn_on\\r\\n\":\n",
    "    #         print(f\"Conneted\")\n",
    "    #         conn.send(respuesta + '\\r\\n')\n",
    "    #     conn.close()\n",
    "        with conn:\n",
    "            print('Connected by', addr)\n",
    "            while not isStop():\n",
    "#                 print('Yay we just in while forever')\n",
    "#                 command_queue = Queue() # for syntax highligt\n",
    "                if(command_queue.empty()):\n",
    "                    sleep(1)\n",
    "                else:\n",
    "                    command = command_queue.get()\n",
    "                    conn.sendall(command)\n",
    "                    print(f\"sented {command}\")\n",
    "    print(f\"socketServer Stopped {s}\")\n",
    "    #             data = conn.recv(1024)\n",
    "    #             if not data: \n",
    "    #                 break\n",
    "    #             else:\n",
    "    #                 print(data)\n",
    "    #     break\n",
    "    #             data = conn.recv(1024)\n",
    "    #             if not data: break\n",
    "    #             conn.sendall(data)"
   ]
  },
  {
   "cell_type": "code",
   "execution_count": 268,
   "metadata": {},
   "outputs": [],
   "source": [
    "command_queue = Queue()\n",
    "isStop = False"
   ]
  },
  {
   "cell_type": "code",
   "execution_count": 269,
   "metadata": {},
   "outputs": [],
   "source": [
    "socketServerThread = Thread(target=socketServer, args=(command_queue, lambda: isStop))"
   ]
  },
  {
   "cell_type": "code",
   "execution_count": 270,
   "metadata": {},
   "outputs": [
    {
     "name": "stdout",
     "output_type": "stream",
     "text": [
      "Successfully open server <socket.socket fd=1596, family=AddressFamily.AF_INET, type=SocketKind.SOCK_STREAM, proto=0, laddr=('0.0.0.0', 8989)>\n",
      "waiting to be connected\n",
      "Connected by ('127.0.0.1', 60422)\n"
     ]
    }
   ],
   "source": [
    "socketServerThread.start()"
   ]
  },
  {
   "cell_type": "code",
   "execution_count": 829,
   "metadata": {
    "jupyter": {
     "source_hidden": true
    }
   },
   "outputs": [],
   "source": [
    "# command_queue.put(b\"test\\r\\n\")\n",
    "command_queue.put(b\"Test\\r\\n\")"
   ]
  },
  {
   "cell_type": "code",
   "execution_count": 127,
   "metadata": {
    "collapsed": true,
    "jupyter": {
     "outputs_hidden": true,
     "source_hidden": true
    }
   },
   "outputs": [
    {
     "name": "stdout",
     "output_type": "stream",
     "text": [
      "sented b'MOVE_FORWARD\\r\\n'\n",
      "sented b'MOVE_BACKWARD\\r\\n'\n",
      "sented b'MOVE_LEFT\\r\\n'\n",
      "sented b'MOVE_RIGHT\\r\\n'\n",
      "sented b'WALK_FORWARD\\r\\n'\n",
      "sented b'WALK_LEFT\\r\\n'\n",
      "sented b'STOP\\r\\n'\n",
      "sented b'WALK_BACKWARD\\r\\n'\n",
      "sented b'WALK_RIGHT\\r\\n'\n",
      "sented b'STOP\\r\\n'\n"
     ]
    }
   ],
   "source": [
    "# move\n",
    "sleep(3)\n",
    "command_queue.put(b\"MOVE_FORWARD\\r\\n\")\n",
    "sleep(1)\n",
    "command_queue.put(b\"MOVE_BACKWARD\\r\\n\")\n",
    "sleep(1)\n",
    "command_queue.put(b\"MOVE_LEFT\\r\\n\")\n",
    "sleep(1)\n",
    "command_queue.put(b\"MOVE_RIGHT\\r\\n\")\n",
    "sleep(1)\n",
    "\n",
    "# walk\n",
    "command_queue.put(b\"WALK_FORWARD\\r\\n\")\n",
    "command_queue.put(b\"WALK_LEFT\\r\\n\")\n",
    "sleep(3)\n",
    "command_queue.put(b\"STOP\\r\\n\")\n",
    "sleep(1)\n",
    "command_queue.put(b\"WALK_BACKWARD\\r\\n\")\n",
    "command_queue.put(b\"WALK_RIGHT\\r\\n\")\n",
    "sleep(3)\n",
    "command_queue.put(b\"STOP\\r\\n\")"
   ]
  },
  {
   "cell_type": "code",
   "execution_count": 135,
   "metadata": {
    "collapsed": true,
    "jupyter": {
     "outputs_hidden": true,
     "source_hidden": true
    }
   },
   "outputs": [
    {
     "name": "stdout",
     "output_type": "stream",
     "text": [
      "sented b'RUN\\r\\n'\n",
      "sented b'JUMP\\r\\n'\n",
      "sented b'STOP\\r\\n'\n",
      "sented b'CROUCH\\r\\n'\n",
      "sented b'JUMP_FORWARD\\r\\n'\n",
      "sented b'JUMP_BACKWARD\\r\\n'\n",
      "sented b'JUMP_LEFT\\r\\n'\n",
      "sented b'JUMP_RIGHT\\r\\n'\n"
     ]
    }
   ],
   "source": [
    "sleep(3)\n",
    "command_queue.put(b\"RUN\\r\\n\")\n",
    "sleep(3)\n",
    "command_queue.put(b\"JUMP\\r\\n\")\n",
    "sleep(2)\n",
    "command_queue.put(b\"STOP\\r\\n\")\n",
    "sleep(1)\n",
    "command_queue.put(b\"CROUCH\\r\\n\")\n",
    "sleep(1)\n",
    "command_queue.put(b\"JUMP_FORWARD\\r\\n\")\n",
    "sleep(1)\n",
    "command_queue.put(b\"JUMP_BACKWARD\\r\\n\")\n",
    "sleep(1)\n",
    "command_queue.put(b\"JUMP_LEFT\\r\\n\")\n",
    "sleep(1)\n",
    "command_queue.put(b\"JUMP_RIGHT\\r\\n\")"
   ]
  },
  {
   "cell_type": "code",
   "execution_count": 14,
   "metadata": {
    "collapsed": true,
    "jupyter": {
     "outputs_hidden": true,
     "source_hidden": true
    }
   },
   "outputs": [
    {
     "name": "stdout",
     "output_type": "stream",
     "text": [
      "sented b'MOUSE_LEFT\\r\\n'\n"
     ]
    }
   ],
   "source": [
    "sleep(3)\n",
    "# command_queue.put(b\"MOUSE_RIGHT\\r\\n\")\n",
    "command_queue.put(b\"MOUSE_LEFT\\r\\n\")"
   ]
  },
  {
   "cell_type": "code",
   "execution_count": 26,
   "metadata": {
    "collapsed": true,
    "jupyter": {
     "outputs_hidden": true,
     "source_hidden": true
    }
   },
   "outputs": [
    {
     "name": "stdout",
     "output_type": "stream",
     "text": [
      "sented b'MOUSE_LEFT_HOLD_UNTIL_BREAK\\r\\n'\n"
     ]
    }
   ],
   "source": [
    "sleep(3)\n",
    "command_queue.put(b\"MOUSE_LEFT_HOLD_UNTIL_BREAK\\r\\n\")"
   ]
  },
  {
   "cell_type": "code",
   "execution_count": 22,
   "metadata": {
    "collapsed": true,
    "jupyter": {
     "outputs_hidden": true,
     "source_hidden": true
    }
   },
   "outputs": [
    {
     "name": "stdout",
     "output_type": "stream",
     "text": [
      "sented b'GAME_PAUSE\\r\\n'\n"
     ]
    }
   ],
   "source": [
    "sleep(3)\n",
    "command_queue.put(b\"GAME_PAUSE\\r\\n\")"
   ]
  },
  {
   "cell_type": "code",
   "execution_count": 28,
   "metadata": {
    "collapsed": true,
    "jupyter": {
     "outputs_hidden": true,
     "source_hidden": true
    }
   },
   "outputs": [
    {
     "name": "stdout",
     "output_type": "stream",
     "text": [
      "sented b'GAME_RESUME\\r\\n'\n"
     ]
    }
   ],
   "source": [
    "sleep(3)\n",
    "command_queue.put(b\"GAME_RESUME\\r\\n\")"
   ]
  },
  {
   "cell_type": "code",
   "execution_count": 51,
   "metadata": {
    "collapsed": true,
    "jupyter": {
     "outputs_hidden": true,
     "source_hidden": true
    }
   },
   "outputs": [
    {
     "name": "stdout",
     "output_type": "stream",
     "text": [
      "sented b'WEATHER_RAIN\\r\\n'\n",
      "sented b'WEATHER_CLEAR\\r\\n'\n",
      "sented b'WEATHER_THUNDER\\r\\n'\n",
      "sented b'WEATHER_CLEAR\\r\\n'\n"
     ]
    }
   ],
   "source": [
    "command_queue.put(b\"WEATHER_RAIN\\r\\n\")\n",
    "sleep(8)\n",
    "command_queue.put(b\"WEATHER_CLEAR\\r\\n\")\n",
    "sleep(8)\n",
    "command_queue.put(b\"WEATHER_THUNDER\\r\\n\")\n",
    "sleep(8)\n",
    "command_queue.put(b\"WEATHER_CLEAR\\r\\n\")"
   ]
  },
  {
   "cell_type": "code",
   "execution_count": 734,
   "metadata": {
    "collapsed": true,
    "jupyter": {
     "outputs_hidden": true,
     "source_hidden": true
    }
   },
   "outputs": [
    {
     "name": "stdout",
     "output_type": "stream",
     "text": [
      "sented b'CHARGE\\r\\n'\n",
      "sented b'RELEASE\\r\\n'\n"
     ]
    }
   ],
   "source": [
    "sleep(3)\n",
    "command_queue.put(b\"CHARGE\\r\\n\")\n",
    "sleep(1.4)\n",
    "command_queue.put(b\"RELEASE\\r\\n\")"
   ]
  },
  {
   "cell_type": "code",
   "execution_count": 11,
   "metadata": {
    "collapsed": true,
    "jupyter": {
     "outputs_hidden": true,
     "source_hidden": true
    }
   },
   "outputs": [
    {
     "name": "stdout",
     "output_type": "stream",
     "text": [
      "sented b'SUMMON_PIG\\r\\n'\n",
      "sented b'SUMMON_LIGHTNING\\r\\n'\n"
     ]
    }
   ],
   "source": [
    "sleep(3)\n",
    "command_queue.put(b\"SUMMON_PIG\\r\\n\")\n",
    "sleep(1)\n",
    "command_queue.put(b\"SUMMON_LIGHTNING\\r\\n\")"
   ]
  },
  {
   "cell_type": "code",
   "execution_count": 16,
   "metadata": {
    "collapsed": true,
    "jupyter": {
     "outputs_hidden": true,
     "source_hidden": true
    }
   },
   "outputs": [
    {
     "name": "stdout",
     "output_type": "stream",
     "text": [
      "sented b'ENCHANT_KNOCKBACK\\r\\n'\n",
      "sented b'ENCHANT_SHARPNESS\\r\\n'\n",
      "sented b'ENCHANT_FIRE_ASPECT\\r\\n'\n",
      "sented b'ENCHANT_UNBREAKING\\r\\n'\n"
     ]
    }
   ],
   "source": [
    "sleep(3)\n",
    "command_queue.put(b\"ENCHANT_KNOCKBACK\\r\\n\")\n",
    "command_queue.put(b\"ENCHANT_SHARPNESS\\r\\n\")\n",
    "command_queue.put(b\"ENCHANT_FIRE_ASPECT\\r\\n\")\n",
    "command_queue.put(b\"ENCHANT_UNBREAKING\\r\\n\")"
   ]
  },
  {
   "cell_type": "code",
   "execution_count": 17,
   "metadata": {
    "collapsed": true,
    "jupyter": {
     "outputs_hidden": true,
     "source_hidden": true
    }
   },
   "outputs": [
    {
     "name": "stdout",
     "output_type": "stream",
     "text": [
      "sented b'ENCHANT_INFINITY\\r\\n'\n",
      "sented b'ENCHANT_FLAME\\r\\n'\n",
      "sented b'ENCHANT_POWER\\r\\n'\n"
     ]
    }
   ],
   "source": [
    "sleep(3)\n",
    "command_queue.put(b\"ENCHANT_INFINITY\\r\\n\")\n",
    "command_queue.put(b\"ENCHANT_FLAME\\r\\n\")\n",
    "command_queue.put(b\"ENCHANT_POWER\\r\\n\")"
   ]
  },
  {
   "cell_type": "code",
   "execution_count": 11,
   "metadata": {
    "collapsed": true,
    "jupyter": {
     "outputs_hidden": true,
     "source_hidden": true
    }
   },
   "outputs": [
    {
     "name": "stdout",
     "output_type": "stream",
     "text": [
      "sented b'CLEAR_ARMOR\\r\\n'\n",
      "sented b'CLEAR_INVENTORY\\r\\n'\n",
      "sented b'POTION_INVISIBLE\\r\\n'\n",
      "sented b'POTION_SPEED\\r\\n'\n",
      "sented b'POTION_FIRE_RESIST\\r\\n'\n",
      "sented b'POTION_HEAL\\r\\n'\n",
      "sented b'FILL_HUNGER\\r\\n'\n"
     ]
    }
   ],
   "source": [
    "sleep(3)\n",
    "command_queue.put(b\"CLEAR_ARMOR\\r\\n\")\n",
    "sleep(3)\n",
    "command_queue.put(b\"CLEAR_INVENTORY\\r\\n\")\n",
    "command_queue.put(b\"POTION_INVISIBLE\\r\\n\")\n",
    "command_queue.put(b\"POTION_SPEED\\r\\n\")\n",
    "command_queue.put(b\"POTION_FIRE_RESIST\\r\\n\")\n",
    "command_queue.put(b\"POTION_HEAL\\r\\n\")\n",
    "command_queue.put(b\"FILL_HUNGER\\r\\n\")"
   ]
  },
  {
   "cell_type": "code",
   "execution_count": 16,
   "metadata": {
    "collapsed": true,
    "jupyter": {
     "outputs_hidden": true,
     "source_hidden": true
    }
   },
   "outputs": [
    {
     "name": "stdout",
     "output_type": "stream",
     "text": [
      "sented b'POTION_INVISIBLE\\r\\n'\n",
      "sented b'POTION_SPEED\\r\\n'\n",
      "sented b'POTION_FIRE_RESIST\\r\\n'\n",
      "sented b'POTION_HEAL\\r\\n'\n",
      "sented b'FILL_HUNGER\\r\\n'\n",
      "sented b'CLEAR_EFFECT\\r\\n'\n"
     ]
    }
   ],
   "source": [
    "sleep(3)\n",
    "command_queue.put(b\"POTION_INVISIBLE\\r\\n\")\n",
    "command_queue.put(b\"POTION_SPEED\\r\\n\")\n",
    "command_queue.put(b\"POTION_FIRE_RESIST\\r\\n\")\n",
    "command_queue.put(b\"POTION_HEAL\\r\\n\")\n",
    "command_queue.put(b\"FILL_HUNGER\\r\\n\")\n",
    "sleep(2)\n",
    "command_queue.put(b\"CLEAR_EFFECT\\r\\n\")"
   ]
  },
  {
   "cell_type": "code",
   "execution_count": 24,
   "metadata": {
    "collapsed": true,
    "jupyter": {
     "outputs_hidden": true,
     "source_hidden": true
    }
   },
   "outputs": [
    {
     "name": "stdout",
     "output_type": "stream",
     "text": [
      "sented b'GAMEMODE_CREATIVE\\r\\n'\n",
      "sented b'GAMEMODE_SURVIVAL\\r\\n'\n",
      "sented b'SET_FIRE\\r\\n'\n",
      "sented b'GAMEMODE_CREATIVE\\r\\n'\n"
     ]
    }
   ],
   "source": [
    "sleep(3)\n",
    "command_queue.put(b\"GAMEMODE_CREATIVE\\r\\n\")\n",
    "sleep(3)\n",
    "command_queue.put(b\"GAMEMODE_SURVIVAL\\r\\n\")\n",
    "command_queue.put(b\"SET_FIRE\\r\\n\")\n",
    "sleep(3)\n",
    "command_queue.put(b\"GAMEMODE_CREATIVE\\r\\n\")"
   ]
  },
  {
   "cell_type": "code",
   "execution_count": 224,
   "metadata": {},
   "outputs": [
    {
     "name": "stdout",
     "output_type": "stream",
     "text": [
      "sented b'MOUNT_LOOKAT\\r\\n'\n"
     ]
    }
   ],
   "source": [
    "sleep(3)\n",
    "command_queue.put(b\"MOUNT_LOOKAT\\r\\n\")"
   ]
  },
  {
   "cell_type": "code",
   "execution_count": 124,
   "metadata": {
    "collapsed": true,
    "jupyter": {
     "outputs_hidden": true,
     "source_hidden": true
    }
   },
   "outputs": [
    {
     "name": "stdout",
     "output_type": "stream",
     "text": [
      "sented b'MOUSE_RIGHT_USE_ITEM\\r\\n'\n"
     ]
    }
   ],
   "source": [
    "sleep(3)\n",
    "command_queue.put(b\"MOUSE_RIGHT_USE_ITEM\\r\\n\")"
   ]
  },
  {
   "cell_type": "code",
   "execution_count": 175,
   "metadata": {
    "collapsed": true,
    "jupyter": {
     "outputs_hidden": true,
     "source_hidden": true
    }
   },
   "outputs": [
    {
     "name": "stdout",
     "output_type": "stream",
     "text": [
      "sented b'DROP\\r\\n'\n",
      "sented b'SEL_INVENTORY,0\\r\\n'\n",
      "sented b'PLACE_INVENTORY,15\\r\\n'\n"
     ]
    }
   ],
   "source": [
    "sleep(3)\n",
    "command_queue.put(b\"DROP\\r\\n\")\n",
    "command_queue.put(b\"SEL_INVENTORY,0\\r\\n\")\n",
    "command_queue.put(b\"PLACE_INVENTORY,15\\r\\n\")"
   ]
  },
  {
   "cell_type": "code",
   "execution_count": 277,
   "metadata": {},
   "outputs": [
    {
     "name": "stdout",
     "output_type": "stream",
     "text": [
      "sented b'TP_FORWARD\\r\\n'\n",
      "sented b'TP_BACKWARD\\r\\n'\n",
      "sented b'TP_RIGHT\\r\\n'\n",
      "sented b'TP_LEFT\\r\\n'\n"
     ]
    }
   ],
   "source": [
    "sleep(3)\n",
    "command_queue.put(b\"TP_FORWARD\\r\\n\")\n",
    "sleep(1)\n",
    "command_queue.put(b\"TP_BACKWARD\\r\\n\")\n",
    "sleep(1)\n",
    "command_queue.put(b\"TP_RIGHT\\r\\n\")\n",
    "sleep(1)\n",
    "command_queue.put(b\"TP_LEFT\\r\\n\")"
   ]
  },
  {
   "cell_type": "code",
   "execution_count": 267,
   "metadata": {},
   "outputs": [
    {
     "name": "stdout",
     "output_type": "stream",
     "text": [
      "socketServer Stopped <socket.socket fd=1392, family=AddressFamily.AF_INET, type=SocketKind.SOCK_STREAM, proto=0, laddr=('0.0.0.0', 8989)>\n"
     ]
    }
   ],
   "source": [
    "isStop = True"
   ]
  },
  {
   "cell_type": "code",
   "execution_count": null,
   "metadata": {},
   "outputs": [],
   "source": []
  },
  {
   "cell_type": "code",
   "execution_count": null,
   "metadata": {},
   "outputs": [],
   "source": []
  }
 ],
 "metadata": {
  "kernelspec": {
   "display_name": "Python 3",
   "language": "python",
   "name": "python3"
  },
  "language_info": {
   "codemirror_mode": {
    "name": "ipython",
    "version": 3
   },
   "file_extension": ".py",
   "mimetype": "text/x-python",
   "name": "python",
   "nbconvert_exporter": "python",
   "pygments_lexer": "ipython3",
   "version": "3.7.5"
  },
  "widgets": {
   "application/vnd.jupyter.widget-state+json": {
    "state": {},
    "version_major": 2,
    "version_minor": 0
   }
  }
 },
 "nbformat": 4,
 "nbformat_minor": 4
}
