{
 "cells": [
  {
   "cell_type": "code",
   "execution_count": 2,
   "metadata": {},
   "outputs": [],
   "source": [
    "import socket\n",
    "from queue import Queue\n",
    "from time import sleep\n",
    "from threading import Thread"
   ]
  },
  {
   "cell_type": "code",
   "execution_count": 16,
   "metadata": {},
   "outputs": [],
   "source": [
    "def socketServer(command_queue, isStop, HOST = '', PORT = 8989):\n",
    "    s = socket.socket(socket.AF_INET, socket.SOCK_STREAM)\n",
    "    s.setsockopt(socket.SOL_SOCKET, socket.SO_REUSEADDR, 1)\n",
    "    s.bind((HOST, PORT))\n",
    "    s.listen() #(5)\n",
    "    print(f\"Successfully open server {s}\")\n",
    "    while not isStop():\n",
    "        print(f\"waiting to be connected\")\n",
    "        conn, addr = s.accept()\n",
    "    #     if data == \"turn_on\\r\\n\":\n",
    "    #         print(f\"Conneted\")\n",
    "    #         conn.send(respuesta + '\\r\\n')\n",
    "    #     conn.close()\n",
    "        with conn:\n",
    "            print('Connected by', addr)\n",
    "            while not isStop():\n",
    "#                 print('Yay we just in while forever')\n",
    "#                 command_queue = Queue() # for syntax highligt\n",
    "                if(command_queue.empty()):\n",
    "                    sleep(1)\n",
    "                else:\n",
    "                    command = command_queue.get()\n",
    "                    conn.sendall(command)\n",
    "                    print(f\"sented {command}\")\n",
    "    print(f\"socketServer Stopped {s}\")\n",
    "    #             data = conn.recv(1024)\n",
    "    #             if not data: \n",
    "    #                 break\n",
    "    #             else:\n",
    "    #                 print(data)\n",
    "    #     break\n",
    "    #             data = conn.recv(1024)\n",
    "    #             if not data: break\n",
    "    #             conn.sendall(data)"
   ]
  },
  {
   "cell_type": "code",
   "execution_count": 102,
   "metadata": {},
   "outputs": [],
   "source": [
    "command_queue = Queue()\n",
    "isStop = False"
   ]
  },
  {
   "cell_type": "code",
   "execution_count": 103,
   "metadata": {},
   "outputs": [],
   "source": [
    "socketServerThread = Thread(target=socketServer, args=(command_queue, lambda: isStop))"
   ]
  },
  {
   "cell_type": "code",
   "execution_count": 104,
   "metadata": {},
   "outputs": [
    {
     "name": "stdout",
     "output_type": "stream",
     "text": [
      "Successfully open server <socket.socket fd=1224, family=AddressFamily.AF_INET, type=SocketKind.SOCK_STREAM, proto=0, laddr=('0.0.0.0', 8989)>\n",
      "waiting to be connected\n",
      "Connected by ('127.0.0.1', 48011)\n"
     ]
    }
   ],
   "source": [
    "socketServerThread.start()"
   ]
  },
  {
   "cell_type": "code",
   "execution_count": 94,
   "metadata": {},
   "outputs": [
    {
     "name": "stdout",
     "output_type": "stream",
     "text": [
      "sented b'Test\\r\\n'\n"
     ]
    }
   ],
   "source": [
    "# command_queue.put(b\"test\\r\\n\")\n",
    "command_queue.put(b\"Test\\r\\n\")"
   ]
  },
  {
   "cell_type": "code",
   "execution_count": 116,
   "metadata": {},
   "outputs": [
    {
     "name": "stdout",
     "output_type": "stream",
     "text": [
      "sented b'MOVE_FORWARD\\r\\n'\n",
      "sented b'MOVE_BACKWARD\\r\\n'\n",
      "sented b'MOVE_LEFT\\r\\n'\n",
      "sented b'MOVE_RIGHT\\r\\n'\n",
      "sented b'WALK_FORWARD\\r\\n'\n",
      "sented b'WALK_LEFT\\r\\n'\n",
      "sented b'STOP\\r\\n'\n",
      "sented b'WALK_BACKWARD\\r\\n'\n",
      "sented b'WALK_RIGHT\\r\\n'\n",
      "sented b'STOP\\r\\n'\n"
     ]
    }
   ],
   "source": [
    "# move\n",
    "sleep(3)\n",
    "command_queue.put(b\"MOVE_FORWARD\\r\\n\")\n",
    "sleep(1)\n",
    "command_queue.put(b\"MOVE_BACKWARD\\r\\n\")\n",
    "sleep(1)\n",
    "command_queue.put(b\"MOVE_LEFT\\r\\n\")\n",
    "sleep(1)\n",
    "command_queue.put(b\"MOVE_RIGHT\\r\\n\")\n",
    "sleep(1)\n",
    "\n",
    "# walk\n",
    "command_queue.put(b\"WALK_FORWARD\\r\\n\")\n",
    "command_queue.put(b\"WALK_LEFT\\r\\n\")\n",
    "sleep(3)\n",
    "command_queue.put(b\"STOP\\r\\n\")\n",
    "sleep(1)\n",
    "command_queue.put(b\"WALK_BACKWARD\\r\\n\")\n",
    "command_queue.put(b\"WALK_RIGHT\\r\\n\")\n",
    "sleep(3)\n",
    "command_queue.put(b\"STOP\\r\\n\")"
   ]
  },
  {
   "cell_type": "code",
   "execution_count": 117,
   "metadata": {},
   "outputs": [
    {
     "name": "stdout",
     "output_type": "stream",
     "text": [
      "socketServer Stopped <socket.socket fd=1224, family=AddressFamily.AF_INET, type=SocketKind.SOCK_STREAM, proto=0, laddr=('0.0.0.0', 8989)>\n"
     ]
    }
   ],
   "source": [
    "isStop = True"
   ]
  },
  {
   "cell_type": "code",
   "execution_count": null,
   "metadata": {},
   "outputs": [],
   "source": []
  },
  {
   "cell_type": "code",
   "execution_count": null,
   "metadata": {},
   "outputs": [],
   "source": [
    "# Echo server program\n",
    "import socket\n",
    "import sys\n",
    "\n",
    "HOST = None               # Symbolic name meaning all available interfaces\n",
    "PORT = 8989              # Arbitrary non-privileged port\n",
    "s = None\n",
    "for res in socket.getaddrinfo(HOST, PORT, socket.AF_INET,\n",
    "                              socket.SOCK_STREAM, 0, socket.AI_PASSIVE):\n",
    "    af, socktype, proto, canonname, sa = res\n",
    "    try:\n",
    "        s = socket.socket(af, socktype, proto)\n",
    "    except OSError as msg:\n",
    "        s = None\n",
    "        continue\n",
    "    try:\n",
    "        s.bind(sa)\n",
    "        s.listen(1)\n",
    "    except OSError as msg:\n",
    "        s.close()\n",
    "        s = None\n",
    "        continue\n",
    "    break\n",
    "if s is None:\n",
    "    print('could not open socket')\n",
    "    sys.exit(1)\n",
    "conn, addr = s.accept()\n",
    "with conn:\n",
    "    print('Connected by', addr)\n",
    "    while True:\n",
    "        print('Yay we just in while forever')\n",
    "#         data = conn.recv(1024)\n",
    "#         if not data: break\n",
    "#         conn.send(data)\n",
    "        break"
   ]
  },
  {
   "cell_type": "code",
   "execution_count": null,
   "metadata": {},
   "outputs": [],
   "source": []
  }
 ],
 "metadata": {
  "kernelspec": {
   "display_name": "Python 3",
   "language": "python",
   "name": "python3"
  },
  "language_info": {
   "codemirror_mode": {
    "name": "ipython",
    "version": 3
   },
   "file_extension": ".py",
   "mimetype": "text/x-python",
   "name": "python",
   "nbconvert_exporter": "python",
   "pygments_lexer": "ipython3",
   "version": "3.7.5"
  },
  "widgets": {
   "application/vnd.jupyter.widget-state+json": {
    "state": {},
    "version_major": 2,
    "version_minor": 0
   }
  }
 },
 "nbformat": 4,
 "nbformat_minor": 4
}
